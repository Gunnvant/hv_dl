{
 "cells": [
  {
   "cell_type": "markdown",
   "id": "e412d352-527a-402c-ab72-3d13a42abf76",
   "metadata": {},
   "source": [
    "### Using autograd libraries to compute gradients\n",
    "\n",
    "- Implement Gradient Descent using auto-grad\n",
    "- Estimate Linear and Logistic Regression using auto-grad"
   ]
  },
  {
   "cell_type": "code",
   "execution_count": null,
   "id": "6e34734f-77f7-4ef4-96ff-a39a0356dd14",
   "metadata": {},
   "outputs": [],
   "source": [
    "import torch"
   ]
  },
  {
   "cell_type": "markdown",
   "id": "4abb1dad-648d-41c1-891f-4bf4e96a3af1",
   "metadata": {},
   "source": [
    "Minmize $X^2+4X$"
   ]
  },
  {
   "cell_type": "code",
   "execution_count": null,
   "id": "690bb551-ce43-4f09-b9b0-61b8747849b6",
   "metadata": {},
   "outputs": [],
   "source": [
    "x=torch.tensor(0.0,requires_grad=True)\n",
    "z=x*x+4*x ### forward pass\n",
    "z.backward()\n",
    "x.grad ### Grad of x at 0 wrt z"
   ]
  },
  {
   "cell_type": "code",
   "execution_count": null,
   "id": "bfaddade-03cd-42d2-b569-28f2a46b3e61",
   "metadata": {},
   "outputs": [],
   "source": [
    "z=x*x+4*x"
   ]
  },
  {
   "cell_type": "code",
   "execution_count": null,
   "id": "b27af2a3-f560-4d7d-a18e-f9ba5389285f",
   "metadata": {},
   "outputs": [],
   "source": [
    "z.backward()"
   ]
  },
  {
   "cell_type": "code",
   "execution_count": null,
   "id": "e2811a46-4c9d-4eea-8eee-82bd3a5e9dfc",
   "metadata": {},
   "outputs": [],
   "source": [
    "x.grad ### "
   ]
  },
  {
   "cell_type": "code",
   "execution_count": null,
   "id": "71b55f3f-7270-4fd1-b009-b64cfcbcbe2b",
   "metadata": {},
   "outputs": [],
   "source": [
    "x.grad.zero_()"
   ]
  },
  {
   "cell_type": "code",
   "execution_count": null,
   "id": "a7518913-c445-4cb5-8b62-488c87248f4b",
   "metadata": {},
   "outputs": [],
   "source": [
    "x.grad"
   ]
  },
  {
   "cell_type": "code",
   "execution_count": null,
   "id": "3b319b29-4e3c-44a3-818a-64b0173d2527",
   "metadata": {},
   "outputs": [],
   "source": [
    "x=torch.tensor(0.0,requires_grad=True)\n",
    "lr=0.01\n",
    "for i in range(10):\n",
    "    z=x*x+4*x\n",
    "    z.backward() ### dz/dx\n",
    "    with torch.no_grad(): ##Disables any gradient computation\n",
    "        x-=lr*x.grad\n",
    "        x.grad.zero_()\n",
    "    print(f\"Z {z}, x: {x}\")"
   ]
  },
  {
   "cell_type": "code",
   "execution_count": null,
   "id": "1930a345-d761-4235-8653-b8a7b9492f2e",
   "metadata": {},
   "outputs": [],
   "source": [
    "x=torch.tensor(1.0,requires_grad=True)\n",
    "lr=0.01\n",
    "for i in range(100):\n",
    "    z=(750/x)+x*10\n",
    "    z.backward()\n",
    "    with torch.no_grad():\n",
    "        x-=lr*x.grad\n",
    "        x.grad.zero_()\n",
    "    print(f\"Z: {z}, x: {x}\")"
   ]
  },
  {
   "cell_type": "code",
   "execution_count": null,
   "id": "1eccfade-b1a1-423c-82ed-ed0f292d89cd",
   "metadata": {},
   "outputs": [],
   "source": [
    "import pandas as pd\n",
    "reg=pd.read_csv(\"./data/regression.csv\").dropna()"
   ]
  },
  {
   "cell_type": "code",
   "execution_count": null,
   "id": "6bf0c478-eb62-4c9a-a311-8ef2e46bdfe0",
   "metadata": {},
   "outputs": [],
   "source": [
    "reg.head(2)"
   ]
  },
  {
   "cell_type": "code",
   "execution_count": null,
   "id": "b5131be9-a8c0-4133-9387-cd8f910ae191",
   "metadata": {},
   "outputs": [],
   "source": [
    "### mpg=b0+b1*cyl ## as a matrix product?\n",
    "### dloss/db0, dloss/db1\n",
    "#### loss=f(b0,b1)\n",
    "##loss=eq\n",
    "##loss.backward()\n",
    "##b0.grad\n",
    "##b1.grad\n",
    "X=reg[['cylinders']].values\n",
    "y=reg[['mpg']].values"
   ]
  },
  {
   "cell_type": "code",
   "execution_count": null,
   "id": "3d146e4f-45de-4c89-92b4-1dd54ed02d5b",
   "metadata": {},
   "outputs": [],
   "source": [
    "## W dim?=> dloss/dW,dloss/db\n",
    "W=torch.randn(1,1,requires_grad=True)\n",
    "b=torch.randn(1,requires_grad=True)"
   ]
  },
  {
   "cell_type": "code",
   "execution_count": null,
   "id": "0ae4896d-9aa8-4e9b-aac6-56cd140cb6b1",
   "metadata": {},
   "outputs": [],
   "source": [
    "X=torch.tensor(X)\n",
    "y=torch.tensor(y)"
   ]
  },
  {
   "cell_type": "code",
   "execution_count": null,
   "id": "b4b621e5-4caf-4156-a08b-31dc07d4fa57",
   "metadata": {},
   "outputs": [],
   "source": [
    "lr=0.01\n",
    "for i in range(100):\n",
    "    diff=y-torch.matmul(X.float(),W)+b\n",
    "    loss=sum(diff*diff)/y.shape[0]\n",
    "    loss.backward()\n",
    "    with torch.no_grad():\n",
    "        W-=lr*W.grad\n",
    "        b-=lr*b.grad\n",
    "        W.grad.zero_()\n",
    "        b.grad.zero_()\n",
    "    print(f\"Loss: {loss.item()}, W: {W.detach().numpy()}, b: {b.detach().numpy()}\")\n",
    "    "
   ]
  },
  {
   "cell_type": "code",
   "execution_count": null,
   "id": "c877d1d2-7974-4869-ab3b-ddc9a4eecd77",
   "metadata": {},
   "outputs": [],
   "source": [
    "### linear classifier.\n",
    "### Can you estimate a linear classifier using autodiff\n",
    "### Loss for linear classifier?\n",
    "### log loss as a function of W and b, p=f(X,W,b)"
   ]
  },
  {
   "cell_type": "code",
   "execution_count": null,
   "id": "5ebcfe69-8150-4b2b-938b-1a17c7aa0b18",
   "metadata": {},
   "outputs": [],
   "source": [
    "cls=pd.read_csv(\"./data/classification.csv\")\n",
    "cls.head()"
   ]
  },
  {
   "cell_type": "code",
   "execution_count": null,
   "id": "564a47ff-5260-4e52-b3ae-a0d8bba3caff",
   "metadata": {},
   "outputs": [],
   "source": [
    "X=cls[['No_pregnant']].values\n",
    "y=cls[['Class']].values"
   ]
  },
  {
   "cell_type": "code",
   "execution_count": null,
   "id": "c710e465-f611-40ab-886a-b0a549204891",
   "metadata": {},
   "outputs": [],
   "source": [
    "### loss=−[𝑦𝑙𝑜𝑔(𝑝+tol)+(1−𝑦)𝑙𝑜𝑔(1−𝑝+tol)]\n",
    "### p=1/(1+e^-z)\n",
    "### z= XW+b"
   ]
  },
  {
   "cell_type": "code",
   "execution_count": null,
   "id": "1af07c09-8729-417e-97a9-b46911509ef8",
   "metadata": {},
   "outputs": [],
   "source": [
    "X=torch.tensor(X)\n",
    "y=torch.tensor(y)\n",
    "W=torch.randn(1,1,requires_grad=True)\n",
    "b=torch.randn(1,requires_grad=True)\n",
    "tol=0.0000000001\n",
    "lr=0.01\n",
    "for i in range(100):\n",
    "    z=torch.matmul(X.float(),W)+b\n",
    "    p=1.0/(1+torch.exp(-z))\n",
    "    loss=-(y*torch.log(p+tol)+(1-y)*torch.log(1-p+tol)).mean()\n",
    "    loss.backward()\n",
    "    with torch.no_grad():\n",
    "        W-=lr*W.grad\n",
    "        b-=lr*b.grad\n",
    "        W.grad.zero_()\n",
    "        b.grad.zero_()\n",
    "    print(f\"Loss: {loss.item()}, W: {W}, b: {b}\")"
   ]
  },
  {
   "cell_type": "markdown",
   "id": "61ee2140-2d52-46d6-a8a6-384b32644b0b",
   "metadata": {},
   "source": [
    "## Using tensorflow to compute gradients \n",
    "\n",
    "$y = x^2 +4x$\n",
    "\n",
    "$\\frac{dy}{dx} = 2x+4$"
   ]
  },
  {
   "cell_type": "code",
   "execution_count": null,
   "id": "66fc9710-b3bd-4281-a674-a670b6bf55f5",
   "metadata": {
    "tags": []
   },
   "outputs": [],
   "source": [
    "import tensorflow as tf\n",
    "x = tf.Variable(3.0)"
   ]
  },
  {
   "cell_type": "code",
   "execution_count": null,
   "id": "40a529ff-6b22-4f17-bde5-c2a79e08cf26",
   "metadata": {},
   "outputs": [],
   "source": [
    "with tf.GradientTape() as tape:\n",
    "    y = x**2+4*x"
   ]
  },
  {
   "cell_type": "code",
   "execution_count": null,
   "id": "1be841e6-bbcc-4f54-84f4-d5409c8ecf6a",
   "metadata": {},
   "outputs": [],
   "source": [
    "dy_dx = tape.gradient(y, x) ## compute dy/dx"
   ]
  },
  {
   "cell_type": "code",
   "execution_count": null,
   "id": "6c90713a-b863-461b-9bbc-54eec98a43e7",
   "metadata": {},
   "outputs": [],
   "source": [
    "dy_dx.numpy()"
   ]
  },
  {
   "cell_type": "markdown",
   "id": "0dd2626d-8715-4ff4-b5fa-1bc92491d4a7",
   "metadata": {},
   "source": [
    "Write the gradient descent using ```GradientTape()```"
   ]
  },
  {
   "cell_type": "code",
   "execution_count": null,
   "id": "ed7386ed-7a0a-44da-9e7f-a2d8e477d341",
   "metadata": {},
   "outputs": [],
   "source": [
    "x = tf.Variable(0.0)\n",
    "lr = 0.1\n",
    "for i in range(10):\n",
    "    with tf.GradientTape() as tape:\n",
    "        y = x**2+4*x\n",
    "    grad = tape.gradient(y,x)\n",
    "    x.assign_sub(lr*grad)\n",
    "    print(x.numpy())"
   ]
  },
  {
   "cell_type": "markdown",
   "id": "5679b3ad-aa53-4430-992e-e0784e934ad9",
   "metadata": {},
   "source": [
    "### Linear Regression with basic tf"
   ]
  },
  {
   "cell_type": "code",
   "execution_count": null,
   "id": "722ca5e0-f073-42b6-93ca-6cedef694fc2",
   "metadata": {},
   "outputs": [],
   "source": [
    "reg.head()"
   ]
  },
  {
   "cell_type": "code",
   "execution_count": null,
   "id": "0836104b-681d-409b-8411-a7068b1a745b",
   "metadata": {},
   "outputs": [],
   "source": [
    "X=reg[['cylinders']].values\n",
    "y=reg[['mpg']].values"
   ]
  },
  {
   "cell_type": "code",
   "execution_count": null,
   "id": "24ecbdb9-9a74-4c84-88df-632b410062b6",
   "metadata": {},
   "outputs": [],
   "source": [
    "X = tf.constant(X,dtype='float32')\n",
    "y = tf.constant(y,dtype='float32')"
   ]
  },
  {
   "cell_type": "code",
   "execution_count": null,
   "id": "ff81a12b-5ed3-45e5-b90f-99c5f0fa4dc0",
   "metadata": {},
   "outputs": [],
   "source": [
    "def loss(y_pred,y):\n",
    "    return tf.reduce_mean(tf.square(y-y_pred))"
   ]
  },
  {
   "cell_type": "code",
   "execution_count": null,
   "id": "fe541cdf-84b8-4d37-9cf7-bed6f1410a95",
   "metadata": {},
   "outputs": [],
   "source": [
    "W = tf.Variable(tf.random.normal(shape=(1,1),dtype='float32'))\n",
    "B = tf.Variable(tf.random.normal(shape=(1,),dtype='float32'))\n",
    "lr = 0.01\n",
    "for i in range(10):\n",
    "    with tf.GradientTape() as tape:\n",
    "        y_pred = tf.reshape(X@W+B,shape=X.shape[0])\n",
    "        error = loss(y_pred,y)\n",
    "    dw,db = tape.gradient(error,[W,B])\n",
    "    W.assign_sub(lr*dw)\n",
    "    B.assign_sub(lr*db)\n",
    "    print(error)"
   ]
  }
 ],
 "metadata": {
  "kernelspec": {
   "display_name": "Python 3 (ipykernel)",
   "language": "python",
   "name": "python3"
  },
  "language_info": {
   "codemirror_mode": {
    "name": "ipython",
    "version": 3
   },
   "file_extension": ".py",
   "mimetype": "text/x-python",
   "name": "python",
   "nbconvert_exporter": "python",
   "pygments_lexer": "ipython3",
   "version": "3.9.9"
  }
 },
 "nbformat": 4,
 "nbformat_minor": 5
}
