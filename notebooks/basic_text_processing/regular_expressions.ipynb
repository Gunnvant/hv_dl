{
 "cells": [
  {
   "cell_type": "markdown",
   "id": "06680666-6486-4459-a302-177b3b4eac7c",
   "metadata": {},
   "source": [
    "## Regular Expressions\n",
    "\n",
    "Regular expressions (often shortened as RegEx or regex) are tools, and like all tools, regular expressions are designed to solve a very specific problem. The best way to understand regular expressions and what they do is to understand the problem they solve.\n",
    "\n",
    "Consider the following scenarios:\n",
    "\n",
    "- You are searching for a file containing the text car (regardless of case) but do not want to also locate car in the middle of a word (for example, scar, carry, and incarcerate).\n",
    "\n",
    "- You are generating a Web page and need to display text retrieved from a database. Text may contain URLs, and you want those URLs to be clickable in the generated page (so that instead of generating just text, you generate a valid HTML <a href></a>).\n",
    "\n",
    "- You create an app with a form that prompts for user information including e-mail address. You need to verify that specified addresses are formatted correctly (that they are syntactically valid).\n",
    "\n",
    "- You are editing source code and need to replace all occurrences of size with iSize, but only size and not size as part of another word.\n",
    "\n",
    "- You are displaying a list of all files in your computer file system and want to filter so that you locate only files containing the text Application.\n",
    "\n",
    "- You are importing data into an application. The data is tab delimited and your application supports CSV format files (one row per line, comma-delimited values, each possibly enclosed with quotes).\n",
    "\n",
    "- You need to search a file for some specific text, but only at a specific location (perhaps at the start of a line or at the end of a sentence).\n",
    "\n",
    "\n",
    "**Regex are written using the following rules:**\n",
    "\n",
    "<img src='character_classes.png'>"
   ]
  },
  {
   "cell_type": "markdown",
   "id": "95ffe6de-572d-4755-a1c3-bc9add436a13",
   "metadata": {},
   "source": [
    "#### Here is a list of all the regex operators\n",
    "![](regex.png)"
   ]
  },
  {
   "cell_type": "markdown",
   "id": "8d37263e-a9b5-45e3-8982-542b5ba89195",
   "metadata": {},
   "source": [
    "### Matching a single set of characters\n",
    "\n",
    "To match a single set of characters we just need to write define the pattern in term of the characters to be matched.\n",
    "\n",
    "For example imagine our text was \n",
    "\n",
    "```\n",
    "Hello, my name is Ben. Please visit\n",
    "my website at http://www.forta.com/.\n",
    "\n",
    "```\n",
    "And we wanted to match `Ben`\n",
    "\n",
    "Let's see how can we do that\n",
    "\n"
   ]
  },
  {
   "cell_type": "code",
   "execution_count": 1,
   "id": "2d62313f-3751-40db-b17e-64bb690d9b50",
   "metadata": {},
   "outputs": [],
   "source": [
    "import re"
   ]
  },
  {
   "cell_type": "code",
   "execution_count": 2,
   "id": "19e5b89e-d09b-4623-b7c1-8e9f02b851da",
   "metadata": {},
   "outputs": [
    {
     "data": {
      "text/plain": [
       "['Ben']"
      ]
     },
     "execution_count": 2,
     "metadata": {},
     "output_type": "execute_result"
    }
   ],
   "source": [
    "## Variation 1\n",
    "pattern = re.compile(r'Ben')\n",
    "text = '''Hello, my name is Ben. Please visit\n",
    "my website at http://www.forta.com/.'''\n",
    "re.findall(pattern,text)"
   ]
  },
  {
   "cell_type": "code",
   "execution_count": 3,
   "id": "6becb6b1-882b-488e-9e41-deb9aef2572f",
   "metadata": {},
   "outputs": [
    {
     "data": {
      "text/plain": [
       "[]"
      ]
     },
     "execution_count": 3,
     "metadata": {},
     "output_type": "execute_result"
    }
   ],
   "source": [
    "## Variation 2\n",
    "pattern = re.compile(r'ben')\n",
    "text = '''Hello, my name is Ben. Please visit\n",
    "my website at http://www.forta.com/.'''\n",
    "re.findall(pattern,text)"
   ]
  },
  {
   "cell_type": "code",
   "execution_count": 4,
   "id": "da5edd13-1345-4b03-addf-5496496fa728",
   "metadata": {},
   "outputs": [
    {
     "data": {
      "text/plain": [
       "['Ben']"
      ]
     },
     "execution_count": 4,
     "metadata": {},
     "output_type": "execute_result"
    }
   ],
   "source": [
    "## Variation 3\n",
    "pattern = re.compile(r'Ben',re.IGNORECASE)\n",
    "text = '''Hello, my name is Ben. Please visit\n",
    "my website at http://www.forta.com/.'''\n",
    "re.findall(pattern,text)"
   ]
  },
  {
   "cell_type": "markdown",
   "id": "db4a0310-2bd2-4516-a648-f84f8405dd64",
   "metadata": {},
   "source": [
    "In the text ```Hello, my name is Ben. Please visit\n",
    "my website at http://www.forta.com/.``` match `my`"
   ]
  },
  {
   "cell_type": "code",
   "execution_count": 5,
   "id": "0980c9db-f3fe-4711-b35a-f4c1b86cf709",
   "metadata": {},
   "outputs": [
    {
     "data": {
      "text/plain": [
       "['my', 'my']"
      ]
     },
     "execution_count": 5,
     "metadata": {},
     "output_type": "execute_result"
    }
   ],
   "source": [
    "pattern = re.compile(r'my',re.IGNORECASE)\n",
    "re.findall(pattern,text)"
   ]
  },
  {
   "cell_type": "markdown",
   "id": "cf8711f5-f7b5-447d-956b-7a2dc3f922c8",
   "metadata": {},
   "source": [
    "### Using regex operator '.' \n",
    "Suppose we have a list of following files:\n",
    "```\n",
    "sales1.xls\n",
    "orders3.xls\n",
    "sales2.xls\n",
    "sales3.xls\n",
    "apac1.xls\n",
    "europe2.xls\n",
    "na1.xls\n",
    "na2.xls\n",
    "sa1.xls\n",
    "```\n",
    "We want to match all the files that start with `sales`"
   ]
  },
  {
   "cell_type": "code",
   "execution_count": 6,
   "id": "0359e21f-cb06-4b2a-abd5-b05b84e88cf8",
   "metadata": {},
   "outputs": [
    {
     "data": {
      "text/plain": [
       "['sales1', 'sales2', 'sales3']"
      ]
     },
     "execution_count": 6,
     "metadata": {},
     "output_type": "execute_result"
    }
   ],
   "source": [
    "text = '''sales1.xls\n",
    "orders3.xls\n",
    "sales2.xls\n",
    "sales3.xls\n",
    "apac1.xls\n",
    "europe2.xls\n",
    "na1.xls\n",
    "na2.xls\n",
    "sa1.xls'''\n",
    "pattern = re.compile(r'sales.',re.IGNORECASE)\n",
    "re.findall(pattern,text)"
   ]
  },
  {
   "cell_type": "markdown",
   "id": "0a9728ac-0d2a-414f-ae3f-0560aaf631d6",
   "metadata": {},
   "source": [
    "pattern `.` matches anything\n",
    "\n",
    "Match all the filenames that contain letter `a` in the filename itself\n",
    "\n",
    "One good resource to work with regex is [this website](https://regex101.com)"
   ]
  },
  {
   "cell_type": "code",
   "execution_count": 7,
   "id": "b0f1eb21-c927-4708-8e21-1071be0850c0",
   "metadata": {},
   "outputs": [
    {
     "data": {
      "text/plain": [
       "['sal', 'sal', 'sal', 'pac', 'na1', 'na2', 'sa1']"
      ]
     },
     "execution_count": 7,
     "metadata": {},
     "output_type": "execute_result"
    }
   ],
   "source": [
    "pattern = re.compile(r'.a.')\n",
    "re.findall(pattern, text)"
   ]
  },
  {
   "cell_type": "markdown",
   "id": "a3e61277-87f3-4ece-aa9c-b36c64073df5",
   "metadata": {},
   "source": [
    "#### Matching `.`\n",
    "One can use `\\.` to match `.`. Lets see an example. Imagine we need to match all those file names that have any character before or after `a` ending with a `.`"
   ]
  },
  {
   "cell_type": "code",
   "execution_count": 8,
   "id": "ed0494ac-8c8c-4a4c-a8ca-82cbec57283b",
   "metadata": {},
   "outputs": [
    {
     "data": {
      "text/plain": [
       "['na1.', 'na2.', 'sa1.']"
      ]
     },
     "execution_count": 8,
     "metadata": {},
     "output_type": "execute_result"
    }
   ],
   "source": [
    "pattern = re.compile(r'.a.\\.')\n",
    "re.findall(pattern, text)"
   ]
  },
  {
   "cell_type": "code",
   "execution_count": 9,
   "id": "c6d3f33d-09fb-4191-8302-437b402cc49b",
   "metadata": {},
   "outputs": [
    {
     "data": {
      "text/plain": [
       "['na1.xls', 'na2.xls', 'sa1.xls']"
      ]
     },
     "execution_count": 9,
     "metadata": {},
     "output_type": "execute_result"
    }
   ],
   "source": [
    "pattern = re.compile(r'.a.\\.xls')\n",
    "re.findall(pattern, text)"
   ]
  },
  {
   "cell_type": "markdown",
   "id": "545a39ae-e4e2-4b90-b78d-c3a7dc1da19d",
   "metadata": {},
   "source": [
    "### Matching set of characters\n",
    "\n",
    "Consider the following code snippet. \n",
    "\n",
    "```javascript\n",
    "var myArray = new Array();\n",
    "∙∙∙\n",
    "if (myArray[0] == 0) {\n",
    "∙∙∙\n",
    "}\n",
    "\n",
    "```\n",
    "Now, Imagine your task is to find out all the references of `myArray[0]`, `myArray[1]`, `myArray[2]`... `myArray[N]`\n",
    "\n",
    "We can use metacharacters to define that.\n",
    "\n",
    "Lets start with a simple example of matching digits.\n",
    "\n",
    "#### Matching digits\n",
    "\n",
    "We can use `\\d` or `[0-9]` to match digits in text."
   ]
  },
  {
   "cell_type": "code",
   "execution_count": 10,
   "id": "1c546041-a603-4fe4-b87f-571d1eba710b",
   "metadata": {},
   "outputs": [
    {
     "data": {
      "text/plain": [
       "['9', '9', '1', '1', '1']"
      ]
     },
     "execution_count": 10,
     "metadata": {},
     "output_type": "execute_result"
    }
   ],
   "source": [
    "text = \"This text contains a digit 99 here and another digit 111 here\"\n",
    "pattern = re.compile(r'\\d')\n",
    "re.findall(pattern,text)"
   ]
  },
  {
   "cell_type": "code",
   "execution_count": 11,
   "id": "13f6aec6-7b16-4f85-b38a-d51383a9ed41",
   "metadata": {},
   "outputs": [
    {
     "data": {
      "text/plain": [
       "['99', '111']"
      ]
     },
     "execution_count": 11,
     "metadata": {},
     "output_type": "execute_result"
    }
   ],
   "source": [
    "pattern = re.compile(r'\\d+')\n",
    "re.findall(pattern,text)"
   ]
  },
  {
   "cell_type": "code",
   "execution_count": 12,
   "id": "2f35d0c6-95d9-4605-9107-83c0ff63cc2e",
   "metadata": {},
   "outputs": [
    {
     "data": {
      "text/plain": [
       "['99', '111']"
      ]
     },
     "execution_count": 12,
     "metadata": {},
     "output_type": "execute_result"
    }
   ],
   "source": [
    "pattern = re.compile(r'[0-9]+')\n",
    "re.findall(pattern,text)"
   ]
  },
  {
   "cell_type": "markdown",
   "id": "64d0c39b-a33b-4b8c-8038-b97e52eebc0a",
   "metadata": {},
   "source": [
    "#### Matching alphabets\n",
    "\n",
    "We can use metacharacters to match alphabets as well. `\\w` or `[A-Z a-z]` match alphabets"
   ]
  },
  {
   "cell_type": "code",
   "execution_count": 13,
   "id": "27650fcb-136b-4c90-b6d1-abc16e5c8494",
   "metadata": {},
   "outputs": [
    {
     "data": {
      "text/plain": [
       "['This',\n",
       " 'text',\n",
       " 'contains',\n",
       " 'a',\n",
       " 'digit',\n",
       " '99',\n",
       " 'here',\n",
       " 'and',\n",
       " 'another',\n",
       " 'digit',\n",
       " '111',\n",
       " 'here']"
      ]
     },
     "execution_count": 13,
     "metadata": {},
     "output_type": "execute_result"
    }
   ],
   "source": [
    "pattern = re.compile(r'\\w+')\n",
    "re.findall(pattern,text)"
   ]
  },
  {
   "cell_type": "code",
   "execution_count": 14,
   "id": "68612f07-53f4-41ac-8ab1-5a365490e320",
   "metadata": {},
   "outputs": [
    {
     "data": {
      "text/plain": [
       "['This',\n",
       " 'text',\n",
       " 'contains',\n",
       " 'a',\n",
       " 'digit',\n",
       " 'here',\n",
       " 'and',\n",
       " 'another',\n",
       " 'digit',\n",
       " 'here']"
      ]
     },
     "execution_count": 14,
     "metadata": {},
     "output_type": "execute_result"
    }
   ],
   "source": [
    "pattern = re.compile(r'[a-zA-Z]+')\n",
    "re.findall(pattern,text)"
   ]
  },
  {
   "cell_type": "markdown",
   "id": "724b7f0c-ec65-45ed-80fb-d8360340ec79",
   "metadata": {},
   "source": [
    "Match alphanumeric characters\n",
    "```\n",
    "11213\n",
    "A1C2E3\n",
    "48075\n",
    "48237\n",
    "M1B4F2\n",
    "90046\n",
    "H1H2H2\n",
    "```\n",
    "\n"
   ]
  },
  {
   "cell_type": "code",
   "execution_count": 16,
   "id": "599e0dc0-805b-418f-a759-b402723aefe1",
   "metadata": {},
   "outputs": [
    {
     "data": {
      "text/plain": [
       "['11213', 'A1C2E3', '48075', '48237', 'M1B4F2', '90046', 'H1H2H2']"
      ]
     },
     "execution_count": 16,
     "metadata": {},
     "output_type": "execute_result"
    }
   ],
   "source": [
    "text = '''11213\n",
    "A1C2E3\n",
    "48075\n",
    "48237\n",
    "M1B4F2\n",
    "90046\n",
    "H1H2H2'''\n",
    "pattern = re.compile(r'\\w+')\n",
    "re.findall(pattern,text)"
   ]
  },
  {
   "cell_type": "code",
   "execution_count": 17,
   "id": "8909cf29-8049-4edf-b7c1-c26c996d8117",
   "metadata": {},
   "outputs": [
    {
     "data": {
      "text/plain": [
       "['A1C2E3', 'M1B4F2', 'H1H2H2']"
      ]
     },
     "execution_count": 17,
     "metadata": {},
     "output_type": "execute_result"
    }
   ],
   "source": [
    "pattern = re.compile(r'\\w\\d\\w\\d\\w\\d')\n",
    "re.findall(pattern,text)"
   ]
  },
  {
   "cell_type": "code",
   "execution_count": 18,
   "id": "fd19155d-98b6-4634-8385-714b339e090e",
   "metadata": {},
   "outputs": [
    {
     "data": {
      "text/plain": [
       "['11213', '48075', '48237', '90046']"
      ]
     },
     "execution_count": 18,
     "metadata": {},
     "output_type": "execute_result"
    }
   ],
   "source": [
    "pattern = re.compile(r'\\d{5}')\n",
    "re.findall(pattern,text)"
   ]
  },
  {
   "cell_type": "markdown",
   "id": "55636f91-9814-48dc-9a5e-0cb02e80f633",
   "metadata": {},
   "source": [
    "Consider the following code snippet,\n",
    "\n",
    "```javascript\n",
    "var myArray = new Array();\n",
    "∙∙∙\n",
    "if (myArray[0] == 0) {\n",
    "∙∙∙\n",
    "}\n",
    "var myArray = new Array();\n",
    "∙∙∙\n",
    "if (myArray[1] == 0) {\n",
    "∙∙∙\n",
    "}\n",
    "var myArray = new Array();\n",
    "∙∙∙\n",
    "if (myArray[2] == 0) {\n",
    "∙∙∙\n",
    "}\n",
    "var myArray = new Array();\n",
    "∙∙∙\n",
    "if (myArray[3] == 0) {\n",
    "∙∙∙\n",
    "}\n",
    "var myArray = new Array();\n",
    "∙∙∙\n",
    "if (myArray[4] == 0) {\n",
    "∙∙∙\n",
    "}\n",
    "\n",
    "```\n",
    "You need to extract `myArray[0], myArray[1] ... myArray[5]`"
   ]
  },
  {
   "cell_type": "code",
   "execution_count": 19,
   "id": "0750df03-fdde-43cb-81a8-a4dec5cdf0cd",
   "metadata": {},
   "outputs": [
    {
     "data": {
      "text/plain": [
       "['myArray[0]', 'myArray[1]', 'myArray[2]', 'myArray[3]', 'myArray[4]']"
      ]
     },
     "execution_count": 19,
     "metadata": {},
     "output_type": "execute_result"
    }
   ],
   "source": [
    "text = '''\n",
    "var myArray = new Array();\n",
    "∙∙∙\n",
    "if (myArray[0] == 0) {\n",
    "∙∙∙\n",
    "}\n",
    "var myArray = new Array();\n",
    "∙∙∙\n",
    "if (myArray[1] == 0) {\n",
    "∙∙∙\n",
    "}\n",
    "var myArray = new Array();\n",
    "∙∙∙\n",
    "if (myArray[2] == 0) {\n",
    "∙∙∙\n",
    "}\n",
    "var myArray = new Array();\n",
    "∙∙∙\n",
    "if (myArray[3] == 0) {\n",
    "∙∙∙\n",
    "}\n",
    "var myArray = new Array();\n",
    "∙∙∙\n",
    "if (myArray[4] == 0) {\n",
    "∙∙∙\n",
    "}\n",
    "'''\n",
    "pattern = re.compile(r'myArray\\[[0-9]\\]')\n",
    "re.findall(pattern, text)"
   ]
  },
  {
   "cell_type": "markdown",
   "id": "ddb56a58-6658-4f66-9eca-6436314f7dff",
   "metadata": {},
   "source": [
    "Consider the text below:\n",
    "```\n",
    "Send personal email to ben@forta.com or\n",
    "ben.forta@forta.com. For questions about a\n",
    "book use support@forta.com. If your message\n",
    "is urgent try ben@urgent.forta.com. Feel\n",
    "free to send unsolicited email to\n",
    "spam@forta.com (wouldn't it be nice if\n",
    "it were that simple, huh?).\n",
    "```\n",
    "Extract email ids from this text"
   ]
  },
  {
   "cell_type": "code",
   "execution_count": 20,
   "id": "b5df3960-c855-4077-8c5b-143344f5a049",
   "metadata": {},
   "outputs": [
    {
     "data": {
      "text/plain": [
       "['ben@forta.com',\n",
       " 'forta@forta.com',\n",
       " 'support@forta.com',\n",
       " 'ben@urgent.forta',\n",
       " 'spam@forta.com']"
      ]
     },
     "execution_count": 20,
     "metadata": {},
     "output_type": "execute_result"
    }
   ],
   "source": [
    "text = '''Send personal email to ben@forta.com or\n",
    "ben.forta@forta.com. For questions about a\n",
    "book use support@forta.com. If your message\n",
    "is urgent try ben@urgent.forta.com. Feel\n",
    "free to send unsolicited email to\n",
    "spam@forta.com (wouldn't it be nice if\n",
    "it were that simple, huh?).'''\n",
    "pattern = re.compile(r'\\w+@\\w+\\.\\w+')\n",
    "re.findall(pattern,text)"
   ]
  },
  {
   "cell_type": "markdown",
   "id": "e9cdb7a5-e89d-4931-8950-60422cf4f0c6",
   "metadata": {},
   "source": [
    "Consider the data as given below\n",
    "\n",
    "```shell\n",
    "1001: $496.80\n",
    "1002: $1290.69\n",
    "1003: $26.43\n",
    "1004: $613.42\n",
    "1005: $7.61\n",
    "1006: $414.90\n",
    "1007: $25.00\n",
    "```\n",
    "Extract the dollar amount only."
   ]
  },
  {
   "cell_type": "code",
   "execution_count": 21,
   "id": "3248d291-d53d-4a48-9130-3fb5f381a6db",
   "metadata": {},
   "outputs": [
    {
     "data": {
      "text/plain": [
       "['$496.80', '$1290.69', '$26.43', '$613.42', '$7.61', '$414.90', '$25.00']"
      ]
     },
     "execution_count": 21,
     "metadata": {},
     "output_type": "execute_result"
    }
   ],
   "source": [
    "pattern = re.compile(r'\\$\\d+\\.\\d+')\n",
    "text = '''\n",
    "1001: $496.80\n",
    "1002: $1290.69\n",
    "1003: $26.43\n",
    "1004: $613.42\n",
    "1005: $7.61\n",
    "1006: $414.90\n",
    "1007: $25.00\n",
    "'''\n",
    "re.findall(pattern,text)"
   ]
  },
  {
   "cell_type": "markdown",
   "id": "e4f553c2-7a47-4514-b106-fde6cd12d540",
   "metadata": {},
   "source": [
    "Consider the following html code\n",
    "\n",
    "```html\n",
    "This offer is not available to customers\n",
    "living in <b>AK</b> and <b>HI</b>.\n",
    "```\n",
    "Extract text in `<b></b>` tags"
   ]
  },
  {
   "cell_type": "code",
   "execution_count": 22,
   "id": "e13e6241-78c4-4684-804f-8234f3e7edd9",
   "metadata": {},
   "outputs": [
    {
     "data": {
      "text/plain": [
       "['<b>AK</b> and <b>HI</b>']"
      ]
     },
     "execution_count": 22,
     "metadata": {},
     "output_type": "execute_result"
    }
   ],
   "source": [
    "text = '''This offer is not available to customers\n",
    "living in <b>AK</b> and <b>HI</b>.'''\n",
    "pattern = re.compile(r'<b>.*</b>')\n",
    "re.findall(pattern,text)"
   ]
  },
  {
   "cell_type": "code",
   "execution_count": 23,
   "id": "ab9cae46-3647-4417-9ac5-25b1603c8b20",
   "metadata": {},
   "outputs": [
    {
     "data": {
      "text/plain": [
       "['<b>AK</b> and <b>HI</b>']"
      ]
     },
     "execution_count": 23,
     "metadata": {},
     "output_type": "execute_result"
    }
   ],
   "source": [
    "pattern = re.compile(r'<b>.+</b>')\n",
    "re.findall(pattern,text)"
   ]
  },
  {
   "cell_type": "code",
   "execution_count": 24,
   "id": "8994b6de-0863-4be1-b315-0cec52bdc5c0",
   "metadata": {},
   "outputs": [
    {
     "data": {
      "text/plain": [
       "['<b>AK</b>', '<b>HI</b>']"
      ]
     },
     "execution_count": 24,
     "metadata": {},
     "output_type": "execute_result"
    }
   ],
   "source": [
    "pattern = re.compile(r'<b>.*?</b>')\n",
    "re.findall(pattern,text)"
   ]
  },
  {
   "cell_type": "markdown",
   "id": "b69601d5-308e-40bb-969e-3a8beec80c70",
   "metadata": {},
   "source": [
    "### Positional Matching\n",
    "\n",
    "You’ve now learned how to match all sorts of characters in all sorts of combinations and repetitions and in any location within text. However, it is sometimes necessary to match at specific locations within a block of text, and this requires position matching, which is explained below\n",
    "\n",
    "Position matching is used to specify where within a string of text a match should occur. To understand the need for position matching, consider the following example:\n",
    "\n",
    "Text:\n",
    "\n",
    "`The cat scattered his food all over the room.`\n",
    "\n",
    "Regex \n",
    "\n",
    "`cat`"
   ]
  },
  {
   "cell_type": "code",
   "execution_count": 25,
   "id": "d5f026ff-80a8-42cb-b17b-6767a2e5ac87",
   "metadata": {},
   "outputs": [
    {
     "data": {
      "text/plain": [
       "['cat', 'cat']"
      ]
     },
     "execution_count": 25,
     "metadata": {},
     "output_type": "execute_result"
    }
   ],
   "source": [
    "text = 'The cat scattered his food all over the room.'\n",
    "pattern = re.compile(r'cat')\n",
    "re.findall(pattern,text)"
   ]
  },
  {
   "cell_type": "markdown",
   "id": "b1ee0e79-a238-45fa-b915-b644a0cdfe2c",
   "metadata": {},
   "source": [
    "the pattern `cat` matches all occurrences of cat, even cat within the word `scattered`. This may, in fact, be the desired outcome, but more than likely it is not. If you were performing the search to replace all occurrences of `cat` with `dog`, you would end up with the following nonsense:\n",
    "\n",
    "`The dog sdogtered his food all over the room.`\n",
    "\n",
    "**Using Word Boundaries**\n",
    "\n",
    "The first boundary (and one of the most commonly used) is the word boundary specified as `\\b`. As its name suggests, `\\b` is used to match the start or end of a word.\n",
    "\n",
    "To demonstrate the use of `\\b`, here is the previous example again, this time with the boundaries specified:\n",
    "\n",
    "Text\n",
    "`The cat scattered his food all over the room.`\n",
    "\n",
    "Regex:\n",
    "`\\bcat\\b`"
   ]
  },
  {
   "cell_type": "code",
   "execution_count": 26,
   "id": "f8a2d2cd-45c4-458d-8c80-de369cb879ba",
   "metadata": {},
   "outputs": [
    {
     "data": {
      "text/plain": [
       "['cat']"
      ]
     },
     "execution_count": 26,
     "metadata": {},
     "output_type": "execute_result"
    }
   ],
   "source": [
    "pattern = re.compile(r'\\bcat\\b')\n",
    "re.findall(pattern, text)"
   ]
  },
  {
   "cell_type": "markdown",
   "id": "76557eef-e347-4ec6-a2b1-09a06a4941c3",
   "metadata": {},
   "source": [
    "The word `cat` has a space before and after it, and so it matches `\\bcat\\b` (space is one of the characters used to separate words). The word `cat` in `scattered`, however, did not match, because the character before it is `s` and the character after it is `t` (neither of which match \\b)."
   ]
  },
  {
   "cell_type": "code",
   "execution_count": null,
   "id": "396b7ed9-18a3-4474-95ae-f90a647f2890",
   "metadata": {},
   "outputs": [],
   "source": []
  }
 ],
 "metadata": {
  "kernelspec": {
   "display_name": "Python 3 (ipykernel)",
   "language": "python",
   "name": "python3"
  },
  "language_info": {
   "codemirror_mode": {
    "name": "ipython",
    "version": 3
   },
   "file_extension": ".py",
   "mimetype": "text/x-python",
   "name": "python",
   "nbconvert_exporter": "python",
   "pygments_lexer": "ipython3",
   "version": "3.9.10"
  }
 },
 "nbformat": 4,
 "nbformat_minor": 5
}
