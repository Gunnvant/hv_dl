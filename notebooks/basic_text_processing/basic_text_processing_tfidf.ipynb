{
 "cells": [
  {
   "cell_type": "markdown",
   "id": "d6c452fd-4c97-4740-980f-4833112886e1",
   "metadata": {},
   "source": [
    "## Introduction to tfidf matrix\n",
    "- Creating tfidf matrix\n",
    "- Extracting key words using tfidf"
   ]
  },
  {
   "cell_type": "code",
   "execution_count": 1,
   "id": "89736255-ea64-4b1f-aa04-1af32c362f52",
   "metadata": {},
   "outputs": [],
   "source": [
    "import pandas as pd\n",
    "import numpy as np"
   ]
  },
  {
   "cell_type": "code",
   "execution_count": 2,
   "id": "4c72db56-8bc0-42b7-bc48-8e58468169f9",
   "metadata": {},
   "outputs": [],
   "source": [
    "corpus=[\"This is tweet one\",\"This is tweet two\",\"This is tweet three\"]"
   ]
  },
  {
   "cell_type": "code",
   "execution_count": 3,
   "id": "0ec7f268-be25-4628-b757-139625b3ec57",
   "metadata": {},
   "outputs": [],
   "source": [
    "from sklearn.feature_extraction import text"
   ]
  },
  {
   "cell_type": "code",
   "execution_count": 4,
   "id": "213778ca-0de0-45ab-ae5a-3a257b98e433",
   "metadata": {},
   "outputs": [
    {
     "data": {
      "text/plain": [
       "array([[0.41285857, 0.69903033, 0.41285857, 0.        , 0.41285857,\n",
       "        0.        ],\n",
       "       [0.41285857, 0.        , 0.41285857, 0.        , 0.41285857,\n",
       "        0.69903033],\n",
       "       [0.41285857, 0.        , 0.41285857, 0.69903033, 0.41285857,\n",
       "        0.        ]])"
      ]
     },
     "execution_count": 4,
     "metadata": {},
     "output_type": "execute_result"
    }
   ],
   "source": [
    "tfidf=text.TfidfVectorizer(input = corpus)\n",
    "matrix=tfidf.fit_transform(corpus)\n",
    "matrix.toarray()"
   ]
  },
  {
   "cell_type": "code",
   "execution_count": 5,
   "id": "fa0c8fc7-e2fa-414e-bb39-ebefd45c6425",
   "metadata": {},
   "outputs": [
    {
     "data": {
      "text/plain": [
       "array(['is', 'one', 'this', 'three', 'tweet', 'two'], dtype=object)"
      ]
     },
     "execution_count": 5,
     "metadata": {},
     "output_type": "execute_result"
    }
   ],
   "source": [
    "tfidf.get_feature_names_out()"
   ]
  },
  {
   "cell_type": "code",
   "execution_count": 6,
   "id": "3763ceae-644e-4634-b7ae-d232668d5c4c",
   "metadata": {},
   "outputs": [
    {
     "data": {
      "text/html": [
       "<div>\n",
       "<style scoped>\n",
       "    .dataframe tbody tr th:only-of-type {\n",
       "        vertical-align: middle;\n",
       "    }\n",
       "\n",
       "    .dataframe tbody tr th {\n",
       "        vertical-align: top;\n",
       "    }\n",
       "\n",
       "    .dataframe thead th {\n",
       "        text-align: right;\n",
       "    }\n",
       "</style>\n",
       "<table border=\"1\" class=\"dataframe\">\n",
       "  <thead>\n",
       "    <tr style=\"text-align: right;\">\n",
       "      <th></th>\n",
       "      <th>is</th>\n",
       "      <th>one</th>\n",
       "      <th>this</th>\n",
       "      <th>three</th>\n",
       "      <th>tweet</th>\n",
       "      <th>two</th>\n",
       "    </tr>\n",
       "  </thead>\n",
       "  <tbody>\n",
       "    <tr>\n",
       "      <th>0</th>\n",
       "      <td>0.412859</td>\n",
       "      <td>0.69903</td>\n",
       "      <td>0.412859</td>\n",
       "      <td>0.00000</td>\n",
       "      <td>0.412859</td>\n",
       "      <td>0.00000</td>\n",
       "    </tr>\n",
       "    <tr>\n",
       "      <th>1</th>\n",
       "      <td>0.412859</td>\n",
       "      <td>0.00000</td>\n",
       "      <td>0.412859</td>\n",
       "      <td>0.00000</td>\n",
       "      <td>0.412859</td>\n",
       "      <td>0.69903</td>\n",
       "    </tr>\n",
       "    <tr>\n",
       "      <th>2</th>\n",
       "      <td>0.412859</td>\n",
       "      <td>0.00000</td>\n",
       "      <td>0.412859</td>\n",
       "      <td>0.69903</td>\n",
       "      <td>0.412859</td>\n",
       "      <td>0.00000</td>\n",
       "    </tr>\n",
       "  </tbody>\n",
       "</table>\n",
       "</div>"
      ],
      "text/plain": [
       "         is      one      this    three     tweet      two\n",
       "0  0.412859  0.69903  0.412859  0.00000  0.412859  0.00000\n",
       "1  0.412859  0.00000  0.412859  0.00000  0.412859  0.69903\n",
       "2  0.412859  0.00000  0.412859  0.69903  0.412859  0.00000"
      ]
     },
     "execution_count": 6,
     "metadata": {},
     "output_type": "execute_result"
    }
   ],
   "source": [
    "pd.DataFrame(matrix.toarray(),columns=tfidf.get_feature_names_out())"
   ]
  },
  {
   "cell_type": "markdown",
   "id": "13f9a1ad-b624-4232-90e4-20d62b3cb68f",
   "metadata": {},
   "source": [
    "#### Extracting key-words using tfidf weights"
   ]
  },
  {
   "cell_type": "code",
   "execution_count": 7,
   "id": "5f0f7932-9879-4dca-ace5-d8207caf95aa",
   "metadata": {},
   "outputs": [],
   "source": [
    "path = \"./data/transcripts.csv\"\n",
    "data=pd.read_csv(path)"
   ]
  },
  {
   "cell_type": "code",
   "execution_count": 8,
   "id": "a6cdeacc-e725-4fbc-925c-eb040fe11c9e",
   "metadata": {},
   "outputs": [
    {
     "data": {
      "text/html": [
       "<div>\n",
       "<style scoped>\n",
       "    .dataframe tbody tr th:only-of-type {\n",
       "        vertical-align: middle;\n",
       "    }\n",
       "\n",
       "    .dataframe tbody tr th {\n",
       "        vertical-align: top;\n",
       "    }\n",
       "\n",
       "    .dataframe thead th {\n",
       "        text-align: right;\n",
       "    }\n",
       "</style>\n",
       "<table border=\"1\" class=\"dataframe\">\n",
       "  <thead>\n",
       "    <tr style=\"text-align: right;\">\n",
       "      <th></th>\n",
       "      <th>transcript</th>\n",
       "      <th>url</th>\n",
       "    </tr>\n",
       "  </thead>\n",
       "  <tbody>\n",
       "    <tr>\n",
       "      <th>0</th>\n",
       "      <td>Good morning. How are you?(Laughter)It's been ...</td>\n",
       "      <td>https://www.ted.com/talks/ken_robinson_says_sc...</td>\n",
       "    </tr>\n",
       "    <tr>\n",
       "      <th>1</th>\n",
       "      <td>Thank you so much, Chris. And it's truly a gre...</td>\n",
       "      <td>https://www.ted.com/talks/al_gore_on_averting_...</td>\n",
       "    </tr>\n",
       "  </tbody>\n",
       "</table>\n",
       "</div>"
      ],
      "text/plain": [
       "                                          transcript  \\\n",
       "0  Good morning. How are you?(Laughter)It's been ...   \n",
       "1  Thank you so much, Chris. And it's truly a gre...   \n",
       "\n",
       "                                                 url  \n",
       "0  https://www.ted.com/talks/ken_robinson_says_sc...  \n",
       "1  https://www.ted.com/talks/al_gore_on_averting_...  "
      ]
     },
     "execution_count": 8,
     "metadata": {},
     "output_type": "execute_result"
    }
   ],
   "source": [
    "data.head(2)"
   ]
  },
  {
   "cell_type": "code",
   "execution_count": 9,
   "id": "bfd9ce33-14b1-48be-a123-d0fc0094f8bc",
   "metadata": {},
   "outputs": [],
   "source": [
    "tfidf=text.TfidfVectorizer(input = data['transcript'].tolist(),stop_words='english',max_features=5000)"
   ]
  },
  {
   "cell_type": "code",
   "execution_count": 10,
   "id": "e9e13e49-f09f-4cc9-aef0-eb8b6f036c71",
   "metadata": {},
   "outputs": [],
   "source": [
    "matrix=tfidf.fit_transform(data['transcript'].tolist())"
   ]
  },
  {
   "cell_type": "code",
   "execution_count": 11,
   "id": "3c6db97b-d071-4225-989f-84129f6ba767",
   "metadata": {},
   "outputs": [
    {
     "data": {
      "text/plain": [
       "(2467, 5000)"
      ]
     },
     "execution_count": 11,
     "metadata": {},
     "output_type": "execute_result"
    }
   ],
   "source": [
    "matrix.shape"
   ]
  },
  {
   "cell_type": "code",
   "execution_count": 12,
   "id": "76bc59f6-82a6-47c9-a553-1746984612be",
   "metadata": {},
   "outputs": [
    {
     "name": "stderr",
     "output_type": "stream",
     "text": [
      "/Users/gunnvantsaini/miniforge3/lib/python3.9/site-packages/sklearn/utils/deprecation.py:87: FutureWarning: Function get_feature_names is deprecated; get_feature_names is deprecated in 1.0 and will be removed in 1.2. Please use get_feature_names_out instead.\n",
      "  warnings.warn(msg, category=FutureWarning)\n"
     ]
    }
   ],
   "source": [
    "#### How do I extract the key-words? Pick top 5 words from each transcript by tfidf value\n",
    "kw=[]\n",
    "for row in matrix.toarray():\n",
    "    idx=row.argsort()[-5:].tolist()\n",
    "    idx=idx[::-1]\n",
    "    keywords=np.array(tfidf.get_feature_names())[idx]\n",
    "    keywords=\",\".join(keywords)\n",
    "    kw.append(keywords)"
   ]
  },
  {
   "cell_type": "code",
   "execution_count": 13,
   "id": "d9472edd-bdd9-4b87-8daf-f537d52bf5f8",
   "metadata": {},
   "outputs": [
    {
     "data": {
      "text/html": [
       "<div>\n",
       "<style scoped>\n",
       "    .dataframe tbody tr th:only-of-type {\n",
       "        vertical-align: middle;\n",
       "    }\n",
       "\n",
       "    .dataframe tbody tr th {\n",
       "        vertical-align: top;\n",
       "    }\n",
       "\n",
       "    .dataframe thead th {\n",
       "        text-align: right;\n",
       "    }\n",
       "</style>\n",
       "<table border=\"1\" class=\"dataframe\">\n",
       "  <thead>\n",
       "    <tr style=\"text-align: right;\">\n",
       "      <th></th>\n",
       "      <th>transcript</th>\n",
       "      <th>url</th>\n",
       "    </tr>\n",
       "  </thead>\n",
       "  <tbody>\n",
       "    <tr>\n",
       "      <th>0</th>\n",
       "      <td>Good morning. How are you?(Laughter)It's been ...</td>\n",
       "      <td>https://www.ted.com/talks/ken_robinson_says_sc...</td>\n",
       "    </tr>\n",
       "    <tr>\n",
       "      <th>1</th>\n",
       "      <td>Thank you so much, Chris. And it's truly a gre...</td>\n",
       "      <td>https://www.ted.com/talks/al_gore_on_averting_...</td>\n",
       "    </tr>\n",
       "  </tbody>\n",
       "</table>\n",
       "</div>"
      ],
      "text/plain": [
       "                                          transcript  \\\n",
       "0  Good morning. How are you?(Laughter)It's been ...   \n",
       "1  Thank you so much, Chris. And it's truly a gre...   \n",
       "\n",
       "                                                 url  \n",
       "0  https://www.ted.com/talks/ken_robinson_says_sc...  \n",
       "1  https://www.ted.com/talks/al_gore_on_averting_...  "
      ]
     },
     "execution_count": 13,
     "metadata": {},
     "output_type": "execute_result"
    }
   ],
   "source": [
    "data.head(2) ##use url col to extract the title of the talk"
   ]
  },
  {
   "cell_type": "code",
   "execution_count": 14,
   "id": "1cea09c6-e554-4a64-8503-35a7129faac0",
   "metadata": {},
   "outputs": [
    {
     "data": {
      "text/plain": [
       "'https://www.ted.com/talks/ken_robinson_says_schools_kill_creativity\\n'"
      ]
     },
     "execution_count": 14,
     "metadata": {},
     "output_type": "execute_result"
    }
   ],
   "source": [
    "data['url'][0]"
   ]
  },
  {
   "cell_type": "code",
   "execution_count": 15,
   "id": "422d2c01-eab7-4327-84f7-0e08b1c8ee03",
   "metadata": {},
   "outputs": [
    {
     "data": {
      "text/plain": [
       "['https:',\n",
       " '',\n",
       " 'www.ted.com',\n",
       " 'talks',\n",
       " 'ken_robinson_says_schools_kill_creativity']"
      ]
     },
     "execution_count": 15,
     "metadata": {},
     "output_type": "execute_result"
    }
   ],
   "source": [
    "data['url'][0].strip().split(\"/\")"
   ]
  },
  {
   "cell_type": "code",
   "execution_count": 16,
   "id": "392723ff-e50f-4f0d-be19-93a18761e231",
   "metadata": {},
   "outputs": [
    {
     "data": {
      "text/html": [
       "<div>\n",
       "<style scoped>\n",
       "    .dataframe tbody tr th:only-of-type {\n",
       "        vertical-align: middle;\n",
       "    }\n",
       "\n",
       "    .dataframe tbody tr th {\n",
       "        vertical-align: top;\n",
       "    }\n",
       "\n",
       "    .dataframe thead th {\n",
       "        text-align: right;\n",
       "    }\n",
       "</style>\n",
       "<table border=\"1\" class=\"dataframe\">\n",
       "  <thead>\n",
       "    <tr style=\"text-align: right;\">\n",
       "      <th></th>\n",
       "      <th>transcript</th>\n",
       "      <th>url</th>\n",
       "      <th>kwyords</th>\n",
       "    </tr>\n",
       "  </thead>\n",
       "  <tbody>\n",
       "    <tr>\n",
       "      <th>0</th>\n",
       "      <td>Good morning. How are you?(Laughter)It's been ...</td>\n",
       "      <td>https://www.ted.com/talks/ken_robinson_says_sc...</td>\n",
       "      <td>education,laughter,said,think,dance</td>\n",
       "    </tr>\n",
       "    <tr>\n",
       "      <th>1</th>\n",
       "      <td>Thank you so much, Chris. And it's truly a gre...</td>\n",
       "      <td>https://www.ted.com/talks/al_gore_on_averting_...</td>\n",
       "      <td>carbon,laughter,emissions,restaurant,trucks</td>\n",
       "    </tr>\n",
       "  </tbody>\n",
       "</table>\n",
       "</div>"
      ],
      "text/plain": [
       "                                          transcript  \\\n",
       "0  Good morning. How are you?(Laughter)It's been ...   \n",
       "1  Thank you so much, Chris. And it's truly a gre...   \n",
       "\n",
       "                                                 url  \\\n",
       "0  https://www.ted.com/talks/ken_robinson_says_sc...   \n",
       "1  https://www.ted.com/talks/al_gore_on_averting_...   \n",
       "\n",
       "                                       kwyords  \n",
       "0          education,laughter,said,think,dance  \n",
       "1  carbon,laughter,emissions,restaurant,trucks  "
      ]
     },
     "execution_count": 16,
     "metadata": {},
     "output_type": "execute_result"
    }
   ],
   "source": [
    "data['kwyords']=kw\n",
    "data.head(2)"
   ]
  },
  {
   "cell_type": "code",
   "execution_count": 17,
   "id": "6aa28f15-3179-4caa-bbda-1522aa3aaae2",
   "metadata": {},
   "outputs": [],
   "source": [
    "data['title']=data['url'].map(lambda x:x.split(\"/\")[-1].strip())"
   ]
  },
  {
   "cell_type": "code",
   "execution_count": 18,
   "id": "d8367f03-5e4f-4259-b5e2-82f6d7d40874",
   "metadata": {},
   "outputs": [
    {
     "data": {
      "text/html": [
       "<div>\n",
       "<style scoped>\n",
       "    .dataframe tbody tr th:only-of-type {\n",
       "        vertical-align: middle;\n",
       "    }\n",
       "\n",
       "    .dataframe tbody tr th {\n",
       "        vertical-align: top;\n",
       "    }\n",
       "\n",
       "    .dataframe thead th {\n",
       "        text-align: right;\n",
       "    }\n",
       "</style>\n",
       "<table border=\"1\" class=\"dataframe\">\n",
       "  <thead>\n",
       "    <tr style=\"text-align: right;\">\n",
       "      <th></th>\n",
       "      <th>transcript</th>\n",
       "      <th>url</th>\n",
       "      <th>kwyords</th>\n",
       "      <th>title</th>\n",
       "    </tr>\n",
       "  </thead>\n",
       "  <tbody>\n",
       "    <tr>\n",
       "      <th>0</th>\n",
       "      <td>Good morning. How are you?(Laughter)It's been ...</td>\n",
       "      <td>https://www.ted.com/talks/ken_robinson_says_sc...</td>\n",
       "      <td>education,laughter,said,think,dance</td>\n",
       "      <td>ken_robinson_says_schools_kill_creativity</td>\n",
       "    </tr>\n",
       "    <tr>\n",
       "      <th>1</th>\n",
       "      <td>Thank you so much, Chris. And it's truly a gre...</td>\n",
       "      <td>https://www.ted.com/talks/al_gore_on_averting_...</td>\n",
       "      <td>carbon,laughter,emissions,restaurant,trucks</td>\n",
       "      <td>al_gore_on_averting_climate_crisis</td>\n",
       "    </tr>\n",
       "    <tr>\n",
       "      <th>2</th>\n",
       "      <td>(Music: \"The Sound of Silence,\" Simon &amp; Garfun...</td>\n",
       "      <td>https://www.ted.com/talks/david_pogue_says_sim...</td>\n",
       "      <td>microsoft,software,laughter,features,apple</td>\n",
       "      <td>david_pogue_says_simplicity_sells</td>\n",
       "    </tr>\n",
       "    <tr>\n",
       "      <th>3</th>\n",
       "      <td>If you're here today — and I'm very happy that...</td>\n",
       "      <td>https://www.ted.com/talks/majora_carter_s_tale...</td>\n",
       "      <td>bronx,south,environmental,community,city</td>\n",
       "      <td>majora_carter_s_tale_of_urban_renewal</td>\n",
       "    </tr>\n",
       "    <tr>\n",
       "      <th>4</th>\n",
       "      <td>About 10 years ago, I took on the task to teac...</td>\n",
       "      <td>https://www.ted.com/talks/hans_rosling_shows_t...</td>\n",
       "      <td>countries,data,africa,world,income</td>\n",
       "      <td>hans_rosling_shows_the_best_stats_you_ve_ever_...</td>\n",
       "    </tr>\n",
       "    <tr>\n",
       "      <th>5</th>\n",
       "      <td>Thank you. I have to tell you I'm both challen...</td>\n",
       "      <td>https://www.ted.com/talks/tony_robbins_asks_wh...</td>\n",
       "      <td>emotion,people,know,needs,decisions</td>\n",
       "      <td>tony_robbins_asks_why_we_do_what_we_do</td>\n",
       "    </tr>\n",
       "    <tr>\n",
       "      <th>6</th>\n",
       "      <td>On September 10, the morning of my seventh bir...</td>\n",
       "      <td>https://www.ted.com/talks/julia_sweeney_on_let...</td>\n",
       "      <td>said,santa,god,laughter,birthday</td>\n",
       "      <td>julia_sweeney_on_letting_go_of_god</td>\n",
       "    </tr>\n",
       "    <tr>\n",
       "      <th>7</th>\n",
       "      <td>I'm going to present three projects in rapid f...</td>\n",
       "      <td>https://www.ted.com/talks/joshua_prince_ramus_...</td>\n",
       "      <td>building,theater,library,sort,diagram</td>\n",
       "      <td>joshua_prince_ramus_on_seattle_s_library</td>\n",
       "    </tr>\n",
       "    <tr>\n",
       "      <th>8</th>\n",
       "      <td>It's wonderful to be back. I love this wonderf...</td>\n",
       "      <td>https://www.ted.com/talks/dan_dennett_s_respon...</td>\n",
       "      <td>religions,sheep,god,clever,book</td>\n",
       "      <td>dan_dennett_s_response_to_rick_warren</td>\n",
       "    </tr>\n",
       "    <tr>\n",
       "      <th>9</th>\n",
       "      <td>I'm often asked, \"What surprised you about the...</td>\n",
       "      <td>https://www.ted.com/talks/rick_warren_on_a_lif...</td>\n",
       "      <td>god,influence,worldview,believe,wired</td>\n",
       "      <td>rick_warren_on_a_life_of_purpose</td>\n",
       "    </tr>\n",
       "  </tbody>\n",
       "</table>\n",
       "</div>"
      ],
      "text/plain": [
       "                                          transcript  \\\n",
       "0  Good morning. How are you?(Laughter)It's been ...   \n",
       "1  Thank you so much, Chris. And it's truly a gre...   \n",
       "2  (Music: \"The Sound of Silence,\" Simon & Garfun...   \n",
       "3  If you're here today — and I'm very happy that...   \n",
       "4  About 10 years ago, I took on the task to teac...   \n",
       "5  Thank you. I have to tell you I'm both challen...   \n",
       "6  On September 10, the morning of my seventh bir...   \n",
       "7  I'm going to present three projects in rapid f...   \n",
       "8  It's wonderful to be back. I love this wonderf...   \n",
       "9  I'm often asked, \"What surprised you about the...   \n",
       "\n",
       "                                                 url  \\\n",
       "0  https://www.ted.com/talks/ken_robinson_says_sc...   \n",
       "1  https://www.ted.com/talks/al_gore_on_averting_...   \n",
       "2  https://www.ted.com/talks/david_pogue_says_sim...   \n",
       "3  https://www.ted.com/talks/majora_carter_s_tale...   \n",
       "4  https://www.ted.com/talks/hans_rosling_shows_t...   \n",
       "5  https://www.ted.com/talks/tony_robbins_asks_wh...   \n",
       "6  https://www.ted.com/talks/julia_sweeney_on_let...   \n",
       "7  https://www.ted.com/talks/joshua_prince_ramus_...   \n",
       "8  https://www.ted.com/talks/dan_dennett_s_respon...   \n",
       "9  https://www.ted.com/talks/rick_warren_on_a_lif...   \n",
       "\n",
       "                                       kwyords  \\\n",
       "0          education,laughter,said,think,dance   \n",
       "1  carbon,laughter,emissions,restaurant,trucks   \n",
       "2   microsoft,software,laughter,features,apple   \n",
       "3     bronx,south,environmental,community,city   \n",
       "4           countries,data,africa,world,income   \n",
       "5          emotion,people,know,needs,decisions   \n",
       "6             said,santa,god,laughter,birthday   \n",
       "7        building,theater,library,sort,diagram   \n",
       "8              religions,sheep,god,clever,book   \n",
       "9        god,influence,worldview,believe,wired   \n",
       "\n",
       "                                               title  \n",
       "0          ken_robinson_says_schools_kill_creativity  \n",
       "1                 al_gore_on_averting_climate_crisis  \n",
       "2                  david_pogue_says_simplicity_sells  \n",
       "3              majora_carter_s_tale_of_urban_renewal  \n",
       "4  hans_rosling_shows_the_best_stats_you_ve_ever_...  \n",
       "5             tony_robbins_asks_why_we_do_what_we_do  \n",
       "6                 julia_sweeney_on_letting_go_of_god  \n",
       "7           joshua_prince_ramus_on_seattle_s_library  \n",
       "8              dan_dennett_s_response_to_rick_warren  \n",
       "9                   rick_warren_on_a_life_of_purpose  "
      ]
     },
     "execution_count": 18,
     "metadata": {},
     "output_type": "execute_result"
    }
   ],
   "source": [
    "data.head(10)"
   ]
  },
  {
   "cell_type": "code",
   "execution_count": null,
   "id": "7689e906-c073-4a91-bd77-ae7308cb7ce8",
   "metadata": {},
   "outputs": [],
   "source": []
  }
 ],
 "metadata": {
  "kernelspec": {
   "display_name": "Python 3 (ipykernel)",
   "language": "python",
   "name": "python3"
  },
  "language_info": {
   "codemirror_mode": {
    "name": "ipython",
    "version": 3
   },
   "file_extension": ".py",
   "mimetype": "text/x-python",
   "name": "python",
   "nbconvert_exporter": "python",
   "pygments_lexer": "ipython3",
   "version": "3.9.10"
  }
 },
 "nbformat": 4,
 "nbformat_minor": 5
}
